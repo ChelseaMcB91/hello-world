{
 "cells": [
  {
   "cell_type": "code",
   "execution_count": 1,
   "metadata": {},
   "outputs": [],
   "source": [
    "import re\n",
    "import ast\n",
    "import sys\n",
    "import time\n",
    "import numpy as np\n",
    "import pandas as pd\n",
    "import seaborn as sns\n",
    "import matplotlib.pyplot as plt\n",
    "import matplotlib.patheffects as PathEffects\n",
    "\n",
    "# Allow numpy to print full array without scientific notation\n",
    "\n",
    "np.set_printoptions(threshold=sys.maxsize, suppress=True)\n",
    "\n",
    "%matplotlib inline\n",
    "\n",
    "# Set random variable for reproducibility\n",
    "\n",
    "RS = 123"
   ]
  },
  {
   "cell_type": "code",
   "execution_count": 2,
   "metadata": {
    "scrolled": true
   },
   "outputs": [],
   "source": [
    "\"\"\" \n",
    "Load norms, vectors, annotations from annotations_csv.\n",
    "Note: Vectors must be converted to np.array of float values\n",
    "\"\"\"  \n",
    "\n",
    "def load_norms_vectors(annotations_csv, kind='train'):\n",
    "    \n",
    "    # Load csv\n",
    "    annotations_csv = pd.read_csv(annotations_csv, sep = \"\\t\", names = ['norm', 'annotation', 'vector'], skipinitialspace=True)\n",
    "\n",
    "    # Convert vectors from str representation to list[float]\n",
    "    annotations_csv['vector'] = annotations_csv['vector'].apply(ast.literal_eval)\n",
    "    \n",
    "    # Create norms, vectors dataframe subset\n",
    "    norms_vectors = annotations_csv[['norm', 'vector']]\n",
    "    \n",
    "    # Create annotations np.array subset\n",
    "    annotations = np.array(annotations_csv['annotation'])\n",
    "    \n",
    "    return norms_vectors, annotations\n",
    "\n",
    "\n",
    "#annotations_csv = \"norms_vectors_word2vec_wiki_annotations.csv.vec100\"\n",
    "#annotations_csv = \"norms_vectors_fasttext_wiki_annotations.csv.vec100\"\n",
    "\n",
    "#annotations_csv = \"norms_vectors_word2vec_gigaword_annotations.csv.vec100\"\n",
    "#annotations_csv = \"norms_vectors_fasttext_gigaword_annotations.csv.vec100\"\n",
    "\n",
    "annotations_csv = \"norms_vectors_word2vec_ukwac_annotations.csv.vec100\"\n",
    "#annotations_csv = \"norms_vectors_fasttext_ukwac_annotations.csv.vec100\""
   ]
  },
  {
   "cell_type": "code",
   "execution_count": 3,
   "metadata": {},
   "outputs": [],
   "source": [
    "# Map annotations to integers and replace\n",
    "\n",
    "def map_annotations(annotations):\n",
    "    \n",
    "    annotations_map = {x: index for index, x in enumerate(np.unique(annotations), start=0)}\n",
    "    annotation = np.asarray([annotations_map[annotation] for annotation in annotations])\n",
    "    return annotation\n",
    "\n",
    "_, annotations = load_norms_vectors(annotations_csv)"
   ]
  },
  {
   "cell_type": "code",
   "execution_count": 4,
   "metadata": {},
   "outputs": [],
   "source": [
    "# Load x_train, y_train to norms_vectors and annotations using above function\n",
    "\n",
    "x_train, y_train = load_norms_vectors(annotations_csv, kind='train')\n",
    "\n",
    "y_train = map_annotations(y_train)\n",
    "norms_df = x_train['norm'].reset_index()"
   ]
  },
  {
   "cell_type": "code",
   "execution_count": 5,
   "metadata": {},
   "outputs": [],
   "source": [
    "# Analyse data dimensions with shape attribute for x_train\n",
    "\n",
    "norms = [norm for norm in x_train['norm'].values]"
   ]
  },
  {
   "cell_type": "code",
   "execution_count": 6,
   "metadata": {},
   "outputs": [],
   "source": [
    "# Get unique subsets for norms, vectors, annotations\n",
    "\n",
    "def get_unique_subset():\n",
    "    \n",
    "    x_subset_norm, x_subset_vector, y_subset = x_train['norm'].to_numpy(), x_train['vector'], y_train\n",
    "    vectors_array = [vector for vector in x_subset_vector]    \n",
    "    vectors_pca = np.array(vectors_array)\n",
    "    \n",
    "    return vectors_pca, y_subset"
   ]
  },
  {
   "cell_type": "code",
   "execution_count": 7,
   "metadata": {},
   "outputs": [
    {
     "name": "stdout",
     "output_type": "stream",
     "text": [
      "PCA done! Time elapsed: 0.015656471252441406 seconds\n"
     ]
    }
   ],
   "source": [
    "from sklearn.decomposition import PCA\n",
    "\n",
    "vectors_pca, y_subset = get_unique_subset()\n",
    "\n",
    "time_start = time.time()\n",
    "\n",
    "pca = PCA(n_components = 2)\n",
    "\n",
    "pca_result = pca.fit_transform(vectors_pca) # Transform of all 200 vectors\n",
    "\n",
    "print('PCA done! Time elapsed: {} seconds'.format(time.time() - time_start))"
   ]
  },
  {
   "cell_type": "code",
   "execution_count": 8,
   "metadata": {},
   "outputs": [
    {
     "name": "stdout",
     "output_type": "stream",
     "text": [
      "[10  4  5  5 13 13  5 11  0 13  5  7  8  9 11 13  5  9  5  5  0  0 13  0\n",
      " 13  3 13 11 13  4 13  4  0  2  5 11  9 13 13 12 11  4 12 12 10  4 12  8\n",
      "  0  2  0  4  2 13 13  5 12 11  0  5  4 13 11 11  9 13  5 11  2 11 11  2\n",
      "  0  2 11  5  5  2  9  5  4  4 11 10  4  3 11 13  9  5 13  5 11 13  5  8\n",
      "  9 13  5  5  4  4  5  5  3  5  4  0  6  4  1 11  0  0  4  3 13  5  0  5\n",
      "  8 13  5  0 13  5  5 13 11 11  4  5  4  5  5  5  5 11 13  8 11  4  2 11\n",
      "  5  0 13 11  2 11 13 13  5  5  0  0  0 11  4  3  4 11  4  4  3 13  4 11\n",
      "  1  9 13 13  4  4  5  3 13  4 12  0  5 12  4  6  4  4 11 11 11  3 10  5\n",
      "  7  0  4  2 13]\n",
      "Unique classes: [ 0  1  2  3  4  5  6  7  8  9 10 11 12 13]\n",
      "Number of unique classes: 14\n"
     ]
    }
   ],
   "source": [
    "\"\"\" View y_train: Should be format = array([],...)\n",
    "    and contain every label of all data points. \"\"\"\n",
    "\n",
    "print(y_train)\n",
    "\n",
    "print(\"Unique classes: {}\".format(np.unique(y_train)))\n",
    "print(\"Number of unique classes: {}\".format(len(np.unique(y_train))))"
   ]
  },
  {
   "cell_type": "code",
   "execution_count": 10,
   "metadata": {},
   "outputs": [
    {
     "ename": "IndexError",
     "evalue": "index 2 is out of bounds for axis 1 with size 2",
     "output_type": "error",
     "traceback": [
      "\u001b[1;31m---------------------------------------------------------------------------\u001b[0m",
      "\u001b[1;31mIndexError\u001b[0m                                Traceback (most recent call last)",
      "\u001b[1;32m<ipython-input-10-1736858ab0f3>\u001b[0m in \u001b[0;36m<module>\u001b[1;34m\u001b[0m\n\u001b[0;32m      5\u001b[0m \u001b[0mpca_df\u001b[0m\u001b[1;33m[\u001b[0m\u001b[1;34m'pca1'\u001b[0m\u001b[1;33m]\u001b[0m \u001b[1;33m=\u001b[0m \u001b[0mpca_result\u001b[0m\u001b[1;33m[\u001b[0m\u001b[1;33m:\u001b[0m\u001b[1;33m,\u001b[0m\u001b[1;36m0\u001b[0m\u001b[1;33m]\u001b[0m\u001b[1;33m\u001b[0m\u001b[1;33m\u001b[0m\u001b[0m\n\u001b[0;32m      6\u001b[0m \u001b[0mpca_df\u001b[0m\u001b[1;33m[\u001b[0m\u001b[1;34m'pca2'\u001b[0m\u001b[1;33m]\u001b[0m \u001b[1;33m=\u001b[0m \u001b[0mpca_result\u001b[0m\u001b[1;33m[\u001b[0m\u001b[1;33m:\u001b[0m\u001b[1;33m,\u001b[0m\u001b[1;36m1\u001b[0m\u001b[1;33m]\u001b[0m\u001b[1;33m\u001b[0m\u001b[1;33m\u001b[0m\u001b[0m\n\u001b[1;32m----> 7\u001b[1;33m \u001b[0mpca_df\u001b[0m\u001b[1;33m[\u001b[0m\u001b[1;34m'pca3'\u001b[0m\u001b[1;33m]\u001b[0m \u001b[1;33m=\u001b[0m \u001b[0mpca_result\u001b[0m\u001b[1;33m[\u001b[0m\u001b[1;33m:\u001b[0m\u001b[1;33m,\u001b[0m\u001b[1;36m2\u001b[0m\u001b[1;33m]\u001b[0m\u001b[1;33m\u001b[0m\u001b[1;33m\u001b[0m\u001b[0m\n\u001b[0m",
      "\u001b[1;31mIndexError\u001b[0m: index 2 is out of bounds for axis 1 with size 2"
     ]
    }
   ],
   "source": [
    "# Store the 4 principle components in a dataframe in 4 separate columns\n",
    "\n",
    "pca_df = pd.DataFrame(columns = ['pca1','pca2','pca3','pca4','pca5','pca6','pca7','pca8','pca9','pca10'])\n",
    "\n",
    "pca_df['pca1'] = pca_result[:,0]\n",
    "pca_df['pca2'] = pca_result[:,1]\n",
    "pca_df['pca3'] = pca_result[:,2]"
   ]
  },
  {
   "cell_type": "code",
   "execution_count": 11,
   "metadata": {},
   "outputs": [],
   "source": [
    "# Setup Seaborn plotstyle\n",
    "\n",
    "sns.set_style(\"darkgrid\", {\"axes.facecolor\": \".9\"})\n",
    "sns.set_palette('muted')\n",
    "sns.set_context(\"notebook\", font_scale=2.2,\n",
    "                rc={\"lines.linewidth\": 2.5})\n",
    "\n",
    "def scatter_plot2(x, colors):\n",
    "   \n",
    "    # Choose color palette with seaborn \n",
    "    num_classes = len(np.unique(colors))\n",
    "    palette = np.array(sns.color_palette(\"husl\", num_classes))\n",
    "    \n",
    "    # Create labels and annotations and zip with palette\n",
    "    annos = list(zip(palette, sorted(list(set(annotations)))))\n",
    "    \n",
    "    # Create scatter plot\n",
    "    plt.figure(figsize=(30, 17))\n",
    "    \n",
    "    ax = plt.subplot(aspect='equal')\n",
    "    ax.scatter(x[:,0], x[:,1], lw = 0, s = 40, c = palette[colors.astype(np.int)])\n",
    "        \n",
    "    for i, anno in enumerate(annos):\n",
    "        plt.plot([], [], ' ', c = palette[i], marker = 'o', label=str(anno[1]).capitalize()) # str(anno[-1]) + ': ' +\n",
    "    plt.legend(loc='upper center', bbox_to_anchor=(0.5, -0.05), fontsize=22, frameon = 1, ncol=7)\n",
    "    plt.title('TSNE Visualization for Word2Vec Vectors trained on ukWac Corpus', y=1.01)\n",
    "    \n",
    "    # Set lims\n",
    "    plt.xlim(-15, 25)\n",
    "    plt.ylim(-15, 25)  \n",
    "    \n",
    "    #Set axis\n",
    "    ax.axis('tight')\n",
    "    ax.grid(True)   \n",
    "    \n",
    "    # Annotate norms \n",
    "    for i, txt in enumerate(norms):\n",
    "        plt.annotate(txt, (x[:,0][i], x[:,1][i]), fontsize=20)"
   ]
  },
  {
   "cell_type": "code",
   "execution_count": null,
   "metadata": {
    "scrolled": false
   },
   "outputs": [],
   "source": [
    "# Take two top components\n",
    "\n",
    "top_2_components = pca_df[['pca1', 'pca2']] # Shows per annotations (0-13)\n",
    "\n",
    "# PCA using top 2 components\n",
    "\n",
    "scatter_plot2(top_2_components.values, y_subset) "
   ]
  },
  {
   "cell_type": "code",
   "execution_count": null,
   "metadata": {},
   "outputs": [],
   "source": [
    "def draw_vectors(transformed_features, components_, columns):\n",
    "    \"\"\"\n",
    "    This funtion will project your *original* features\n",
    "    onto your principal component feature-space, so that you can\n",
    "    visualize how \"important\" each one was in the\n",
    "    multi-dimensional scaling\n",
    "    \"\"\"\n",
    "\n",
    "    num_columns = len(columns)\n",
    "\n",
    "    # Scale the principal components by the max value in\n",
    "    # the transformed set belonging to that component\n",
    "    xvector = components_[0] * max(transformed_features[:,0])\n",
    "    yvector = components_[1] * max(transformed_features[:,1])\n",
    "\n",
    "    ax = plt.axes()\n",
    "\n",
    "    for i in range(num_columns):\n",
    "    # Use an arrow to project each original feature as a\n",
    "    # labeled vector on your principal component axes\n",
    "        plt.arrow(0, 0, xvector[i], yvector[i], color='b', width=0.0005, head_width=0.02, alpha=0.75)\n",
    "        plt.text(xvector[i]*1.2, yvector[i]*1.2, list(columns)[i], color='b', alpha=0.75)\n",
    "\n",
    "    return ax"
   ]
  },
  {
   "cell_type": "code",
   "execution_count": null,
   "metadata": {},
   "outputs": [],
   "source": [
    "from sklearn.manifold import TSNE\n",
    "\n",
    "scatter_tsne = TSNE(random_state=RS).fit_transform(vectors_pca)\n",
    "\n",
    "print('t-SNE done! Time elapse: {} seconds'.format(time.time()-time_start))\n",
    "\n",
    "# TSNE using all 100 vector components\n",
    "\n",
    "scatter_plot2(scatter_tsne, y_subset)"
   ]
  },
  {
   "cell_type": "code",
   "execution_count": null,
   "metadata": {},
   "outputs": [],
   "source": [
    "# See how to visualize this with regard to categories\n",
    "\n",
    "pca_10 = PCA(n_components=10)\n",
    "\n",
    "pca_result_10 = pca_10.fit_transform(vectors_pca)\n",
    "\n",
    "print('PCA with 10 components done! Time elapsed: {} seconds'.format(time.time()-time_start))\n",
    "\n",
    "print('Cumulative variaance explained by 6 principle components: {}'.format(np.sum(pca_10.explained_variance_ratio_)))\n",
    "\n",
    "pca_result_10.shape"
   ]
  },
  {
   "cell_type": "code",
   "execution_count": null,
   "metadata": {},
   "outputs": [],
   "source": []
  }
 ],
 "metadata": {
  "kernelspec": {
   "display_name": "Python 3",
   "language": "python",
   "name": "python3"
  },
  "language_info": {
   "codemirror_mode": {
    "name": "ipython",
    "version": 3
   },
   "file_extension": ".py",
   "mimetype": "text/x-python",
   "name": "python",
   "nbconvert_exporter": "python",
   "pygments_lexer": "ipython3",
   "version": "3.7.6"
  }
 },
 "nbformat": 4,
 "nbformat_minor": 2
}
