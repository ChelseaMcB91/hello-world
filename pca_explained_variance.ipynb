{
 "cells": [
  {
   "cell_type": "code",
   "execution_count": 13,
   "metadata": {},
   "outputs": [],
   "source": [
    "\"\"\"\n",
    "    Choose the number of principal components by looking at the cumulative variance \n",
    "    of the decomposed spectral data, even though we will be generally using the \n",
    "    first derivative data for more accurate classification.\n",
    "    \n",
    "    Task: Find the most important/correlative components out of \n",
    "          the 100 which are needed to make up the vectors.\n",
    "          - Take the top 10 and bottom 10\n",
    "\"\"\"\n",
    "\n",
    "import numpy as np\n",
    "import matplotlib.pyplot as plt\n",
    "from sklearn.decomposition import PCA\n",
    "from sklearn.preprocessing import MinMaxScaler"
   ]
  },
  {
   "cell_type": "code",
   "execution_count": 46,
   "metadata": {},
   "outputs": [
    {
     "data": {
      "text/plain": [
       "array([[      nan,       nan,       nan, ...,       nan,       nan,\n",
       "              nan],\n",
       "       [-0.035383, -0.47609 ,  0.18857 , ...,  0.016487,  0.15428 ,\n",
       "        -0.28378 ],\n",
       "       [-0.028068, -0.47123 ,  0.24489 , ..., -0.20574 ,  0.28785 ,\n",
       "         0.20679 ],\n",
       "       ...,\n",
       "       [-0.07877 ,  0.10549 ,  0.63327 , ...,  0.061606,  0.16927 ,\n",
       "        -0.14046 ],\n",
       "       [ 0.21258 , -0.87293 ,  0.28657 , ..., -0.012279,  0.48261 ,\n",
       "        -0.21656 ],\n",
       "       [-0.053946, -0.72989 ,  0.5742  , ...,  0.097284,  0.1476  ,\n",
       "        -0.24239 ]])"
      ]
     },
     "execution_count": 46,
     "metadata": {},
     "output_type": "execute_result"
    }
   ],
   "source": [
    "#filepath = '100_dim_pca_word2vec_wiki_attributes.csv'\n",
    "#filepath = '100_dim_pca_fasttext_wiki_attributes.csv'\n",
    "\n",
    "#filepath = '100_dim_pca_word2vec_giga_attributes.csv'\n",
    "#filepath = '100_dim_pca_fasttext_giga_attributes.csv'\n",
    "\n",
    "#filepath = '100_dim_pca_word2vec_ukwac_attributes.csv'\n",
    "filepath = '100_dim_pca_fasttext_ukwac_attributes.csv'\n",
    "\n",
    "data = np.genfromtxt(filepath, delimiter=',', dtype='float64')\n",
    "data"
   ]
  },
  {
   "cell_type": "code",
   "execution_count": 84,
   "metadata": {},
   "outputs": [
    {
     "data": {
      "text/plain": [
       "array([[0.50940592, 0.5893748 , 0.24736927, ..., 0.42217708, 0.47604299,\n",
       "        0.55524517],\n",
       "       [0.51487222, 0.59278959, 0.28852562, ..., 0.26992196, 0.56443906,\n",
       "        0.85842923],\n",
       "       [0.72735017, 0.21964278, 0.38345854, ..., 0.38438718, 0.66413861,\n",
       "        0.28579286],\n",
       "       ...,\n",
       "       [0.47698401, 0.99801155, 0.57233784, ..., 0.45308961, 0.48596331,\n",
       "        0.64382038],\n",
       "       [0.69470184, 0.31054229, 0.31898366, ..., 0.40246854, 0.69333042,\n",
       "        0.59678875],\n",
       "       [0.4955343 , 0.41104678, 0.5291719 , ..., 0.47753379, 0.47162219,\n",
       "        0.58082519]])"
      ]
     },
     "execution_count": 84,
     "metadata": {},
     "output_type": "execute_result"
    }
   ],
   "source": [
    "scaler = MinMaxScaler(feature_range=[0, 1])\n",
    "data_rescaled = scaler.fit_transform(data[1:, 0:100])\n",
    "data_rescaled"
   ]
  },
  {
   "cell_type": "code",
   "execution_count": 82,
   "metadata": {},
   "outputs": [
    {
     "data": {
      "image/png": "[encoded data removed]",
      "text/plain": [
       "<Figure size 432x288 with 1 Axes>"
      ]
     },
     "metadata": {},
     "output_type": "display_data"
    }
   ],
   "source": [
    "#Fitting the PCA algorithm with our Data\n",
    "import seaborn as sns\n",
    "\n",
    "sns.set_style(\"darkgrid\", {\"axes.facecolor\": \".9\"})\n",
    "\n",
    "pca = PCA().fit(data_rescaled)#Plotting the Cumulative Summation of the Explained Variance\n",
    "plt.figure()\n",
    "plt.plot(np.cumsum(pca.explained_variance_ratio_))\n",
    "plt.xlabel('Number of Components')\n",
    "plt.ylabel('Variance (%)') #for each component\n",
    "plt.title('fasttext ukWac Vectors Explained Variance')\n",
    "plt.show()"
   ]
  },
  {
   "cell_type": "code",
   "execution_count": 76,
   "metadata": {},
   "outputs": [],
   "source": [
    "pca = PCA(n_components=25)\n",
    "dataset = pca.fit_transform(data_rescaled)"
   ]
  },
  {
   "cell_type": "code",
   "execution_count": 77,
   "metadata": {},
   "outputs": [
    {
     "data": {
      "text/plain": [
       "array([[-0.0971512 ,  0.89533697, -0.00743321, ..., -0.09017777,\n",
       "         0.32563645, -0.15672362],\n",
       "       [ 0.08013639, -0.88340427, -0.82797748, ...,  0.00808344,\n",
       "         0.0654865 , -0.05379535],\n",
       "       [ 0.20443808,  1.01436048,  0.28948971, ..., -0.0053092 ,\n",
       "        -0.05996682,  0.2176824 ],\n",
       "       ...,\n",
       "       [ 1.65938017, -0.59178558,  0.18149004, ..., -0.01399059,\n",
       "        -0.03503102, -0.06537589],\n",
       "       [-0.93609633, -0.54361323,  0.34614552, ...,  0.18415675,\n",
       "         0.2666105 , -0.07271987],\n",
       "       [-0.45266646,  0.37644227, -0.23194853, ..., -0.23199992,\n",
       "         0.04535188,  0.05923796]])"
      ]
     },
     "execution_count": 77,
     "metadata": {},
     "output_type": "execute_result"
    }
   ],
   "source": [
    "dataset"
   ]
  },
  {
   "cell_type": "code",
   "execution_count": 78,
   "metadata": {},
   "outputs": [
    {
     "name": "stdout",
     "output_type": "stream",
     "text": [
      "Data mean: 0.4952972219612363\n",
      "\n",
      "Data center: [[ 1.41086964e-02  9.40775760e-02 -2.47927955e-01 ... -7.31201424e-02\n",
      "  -1.92542317e-02  5.99479482e-02]\n",
      " [ 1.95749944e-02  9.74923678e-02 -2.06771602e-01 ... -2.25375259e-01\n",
      "   6.91418399e-02  3.63132008e-01]\n",
      " [ 2.32052950e-01 -2.75654440e-01 -1.11838685e-01 ... -1.10910039e-01\n",
      "   1.68841385e-01 -2.09504359e-01]\n",
      " ...\n",
      " [-1.83132136e-02  5.02714329e-01  7.70406226e-02 ... -4.22076134e-02\n",
      "  -9.33391192e-03  1.48523156e-01]\n",
      " [ 1.99404616e-01 -1.84754931e-01 -1.76313562e-01 ... -9.28286867e-02\n",
      "   1.98033199e-01  1.01491525e-01]\n",
      " [ 2.37077844e-04 -8.42504407e-02  3.38746818e-02 ... -1.77634278e-02\n",
      "  -2.36750280e-02  8.55279638e-02]]\n",
      "\n",
      "Covariance matrix: [[ 0.03029957 -0.00217541  0.0060737  ... -0.00430149  0.00512864\n",
      "   0.00769481]\n",
      " [-0.00217541  0.03512629 -0.00980753 ...  0.01221018  0.00640756\n",
      "   0.00251387]\n",
      " [ 0.0060737  -0.00980753  0.03491503 ... -0.00565627 -0.0008681\n",
      "   0.00083412]\n",
      " ...\n",
      " [-0.00430149  0.01221018 -0.00565627 ...  0.05417523 -0.01033666\n",
      "  -0.00832535]\n",
      " [ 0.00512864  0.00640756 -0.0008681  ... -0.01033666  0.03985956\n",
      "   0.00704089]\n",
      " [ 0.00769481  0.00251387  0.00083412 ... -0.00832535  0.00704089\n",
      "   0.03645946]]\n",
      "\n"
     ]
    }
   ],
   "source": [
    "data_mean = np.mean(data_rescaled)\n",
    "data_center = data_rescaled - data_mean\n",
    "cov_matrix = np.cov(data_center)\n",
    "\n",
    "print('Data mean:', str(data_mean) + '\\n')\n",
    "print('Data center:', str(data_center) + '\\n')\n",
    "print('Covariance matrix:', str(cov_matrix) + '\\n')"
   ]
  },
  {
   "cell_type": "code",
   "execution_count": 79,
   "metadata": {},
   "outputs": [
    {
     "data": {
      "text/plain": [
       "(array([ 1.09470012e+00+0.00000000e+00j,  6.46927235e-01+0.00000000e+00j,\n",
       "         5.78769041e-01+0.00000000e+00j,  4.21175089e-01+0.00000000e+00j,\n",
       "         3.71243573e-01+0.00000000e+00j,  2.61779470e-01+0.00000000e+00j,\n",
       "         2.47151464e-01+0.00000000e+00j,  2.13532811e-01+0.00000000e+00j,\n",
       "         2.05276255e-01+0.00000000e+00j,  1.60274380e-01+0.00000000e+00j,\n",
       "         1.37563449e-01+0.00000000e+00j,  1.26420199e-01+0.00000000e+00j,\n",
       "         1.18334457e-01+0.00000000e+00j,  1.15165654e-01+0.00000000e+00j,\n",
       "         1.09161167e-01+0.00000000e+00j,  9.95955988e-02+0.00000000e+00j,\n",
       "         9.35772666e-02+0.00000000e+00j,  9.42810520e-02+0.00000000e+00j,\n",
       "         8.81324998e-02+0.00000000e+00j,  8.31222203e-02+0.00000000e+00j,\n",
       "         7.80938266e-02+0.00000000e+00j,  7.65841627e-02+0.00000000e+00j,\n",
       "         7.30955728e-02+0.00000000e+00j,  6.75496914e-02+0.00000000e+00j,\n",
       "         6.80943503e-02+0.00000000e+00j,  6.22134096e-02+0.00000000e+00j,\n",
       "         5.92104115e-02+0.00000000e+00j,  5.79669693e-02+0.00000000e+00j,\n",
       "         5.50018308e-02+0.00000000e+00j,  5.42462323e-02+0.00000000e+00j,\n",
       "         5.25174084e-02+0.00000000e+00j,  5.14665488e-02+0.00000000e+00j,\n",
       "         4.78618830e-02+0.00000000e+00j,  4.60969822e-02+0.00000000e+00j,\n",
       "         4.63848638e-02+0.00000000e+00j,  4.40347077e-02+0.00000000e+00j,\n",
       "         4.27046220e-02+0.00000000e+00j,  3.48967863e-02+0.00000000e+00j,\n",
       "         3.54701150e-02+0.00000000e+00j,  3.74288043e-02+0.00000000e+00j,\n",
       "         3.83411296e-02+0.00000000e+00j,  3.92941055e-02+0.00000000e+00j,\n",
       "         3.99954107e-02+0.00000000e+00j,  4.06350901e-02+0.00000000e+00j,\n",
       "         3.29647781e-02+0.00000000e+00j,  3.25518140e-02+0.00000000e+00j,\n",
       "         2.99269566e-02+0.00000000e+00j,  2.75751856e-02+0.00000000e+00j,\n",
       "         2.81718314e-02+0.00000000e+00j,  2.71087443e-02+0.00000000e+00j,\n",
       "         2.60236764e-02+0.00000000e+00j,  2.54202693e-02+0.00000000e+00j,\n",
       "         2.46832739e-02+0.00000000e+00j,  2.18790536e-02+0.00000000e+00j,\n",
       "         2.24296357e-02+0.00000000e+00j,  2.11721626e-02+0.00000000e+00j,\n",
       "         2.05598517e-02+0.00000000e+00j,  1.96831579e-02+0.00000000e+00j,\n",
       "         1.93239901e-02+0.00000000e+00j,  1.58854959e-02+0.00000000e+00j,\n",
       "         1.81758570e-02+0.00000000e+00j,  1.68304910e-02+0.00000000e+00j,\n",
       "         1.73676419e-02+0.00000000e+00j,  1.71908422e-02+0.00000000e+00j,\n",
       "         1.96615491e-02+0.00000000e+00j,  1.53744047e-02+0.00000000e+00j,\n",
       "         1.45525300e-02+0.00000000e+00j,  1.43214676e-02+0.00000000e+00j,\n",
       "         1.47582173e-02+0.00000000e+00j,  1.29152119e-02+0.00000000e+00j,\n",
       "         1.22624187e-02+0.00000000e+00j,  1.25066091e-02+0.00000000e+00j,\n",
       "         1.16540012e-02+0.00000000e+00j,  1.08395205e-02+0.00000000e+00j,\n",
       "         1.03264102e-02+0.00000000e+00j,  1.05881372e-02+0.00000000e+00j,\n",
       "         9.55373807e-03+0.00000000e+00j,  9.26404573e-03+0.00000000e+00j,\n",
       "         8.09938116e-03+0.00000000e+00j,  8.55367497e-03+0.00000000e+00j,\n",
       "         7.35631476e-03+0.00000000e+00j,  7.40394846e-03+0.00000000e+00j,\n",
       "         1.62780751e-03+0.00000000e+00j,  2.20696623e-03+0.00000000e+00j,\n",
       "         2.33339908e-03+0.00000000e+00j,  3.34510682e-03+0.00000000e+00j,\n",
       "         2.87084562e-03+0.00000000e+00j,  3.91909730e-03+0.00000000e+00j,\n",
       "         4.28087724e-03+0.00000000e+00j,  6.61856468e-03+0.00000000e+00j,\n",
       "         6.21064148e-03+0.00000000e+00j,  6.86267490e-03+0.00000000e+00j,\n",
       "         5.97449078e-03+0.00000000e+00j,  4.17640699e-03+0.00000000e+00j,\n",
       "         5.46325463e-03+0.00000000e+00j,  5.05530459e-03+0.00000000e+00j,\n",
       "         4.78814331e-03+0.00000000e+00j,  5.74488787e-03+0.00000000e+00j,\n",
       "         5.30824826e-03+0.00000000e+00j, -6.31934948e-17+1.87633928e-17j,\n",
       "        -6.31934948e-17-1.87633928e-17j,  5.88614391e-17+1.42948327e-17j,\n",
       "         5.88614391e-17-1.42948327e-17j,  6.02371395e-17+1.01617422e-18j,\n",
       "         6.02371395e-17-1.01617422e-18j, -6.46262431e-17+0.00000000e+00j,\n",
       "        -5.96172414e-17+0.00000000e+00j,  3.87204803e-17+2.69043382e-17j,\n",
       "         3.87204803e-17-2.69043382e-17j,  4.92801030e-17+0.00000000e+00j,\n",
       "        -4.11780560e-17+2.64247976e-17j, -4.11780560e-17-2.64247976e-17j,\n",
       "        -4.75075069e-17+1.21040615e-17j, -4.75075069e-17-1.21040615e-17j,\n",
       "        -4.83837574e-17+9.44568243e-18j, -4.83837574e-17-9.44568243e-18j,\n",
       "         3.57874668e-17+2.41788358e-17j,  3.57874668e-17-2.41788358e-17j,\n",
       "         7.32064596e-18+3.83779265e-17j,  7.32064596e-18-3.83779265e-17j,\n",
       "        -2.39527854e-17+3.31198413e-17j, -2.39527854e-17-3.31198413e-17j,\n",
       "        -4.48221473e-17+0.00000000e+00j, -3.48067024e-17+2.18707980e-17j,\n",
       "        -3.48067024e-17-2.18707980e-17j, -4.15311502e-17+6.76659332e-18j,\n",
       "        -4.15311502e-17-6.76659332e-18j,  3.85739930e-17+1.29305354e-17j,\n",
       "         3.85739930e-17-1.29305354e-17j,  4.11801994e-17+3.38075078e-18j,\n",
       "         4.11801994e-17-3.38075078e-18j,  3.89935914e-17+9.09572211e-18j,\n",
       "         3.89935914e-17-9.09572211e-18j,  3.59573028e-17+0.00000000e+00j,\n",
       "         2.50715392e-17+1.98023095e-17j,  2.50715392e-17-1.98023095e-17j,\n",
       "         4.05461409e-18+2.78746499e-17j,  4.05461409e-18-2.78746499e-17j,\n",
       "        -3.26437271e-17+0.00000000e+00j,  2.86132838e-17+1.37163175e-17j,\n",
       "         2.86132838e-17-1.37163175e-17j,  1.77337012e-17+2.12240171e-17j,\n",
       "         1.77337012e-17-2.12240171e-17j, -1.33408751e-17+2.49426884e-17j,\n",
       "        -1.33408751e-17-2.49426884e-17j, -3.10114852e-17+4.23709732e-18j,\n",
       "        -3.10114852e-17-4.23709732e-18j, -3.14533680e-17+0.00000000e+00j,\n",
       "         3.13386890e-17+2.53486499e-18j,  3.13386890e-17-2.53486499e-18j,\n",
       "         3.09262517e-17+0.00000000e+00j, -2.75287872e-17+9.42252180e-18j,\n",
       "        -2.75287872e-17-9.42252180e-18j, -2.15493487e-17+1.53756701e-17j,\n",
       "        -2.15493487e-17-1.53756701e-17j, -1.50812799e-17+1.85946818e-17j,\n",
       "        -1.50812799e-17-1.85946818e-17j,  2.02773354e-17+1.29721270e-17j,\n",
       "         2.02773354e-17-1.29721270e-17j,  2.41740986e-17+4.00716222e-18j,\n",
       "         2.41740986e-17-4.00716222e-18j, -2.97385996e-18+1.80445014e-17j,\n",
       "        -2.97385996e-18-1.80445014e-17j, -1.80289777e-17+1.22804034e-17j,\n",
       "        -1.80289777e-17-1.22804034e-17j, -2.48185459e-17+0.00000000e+00j,\n",
       "        -1.05248587e-17+1.39062046e-17j, -1.05248587e-17-1.39062046e-17j,\n",
       "         2.18095516e-17+0.00000000e+00j, -1.75329898e-17+7.35810461e-18j,\n",
       "        -1.75329898e-17-7.35810461e-18j, -2.09778320e-17+0.00000000e+00j,\n",
       "         1.42204019e-17+9.01086044e-18j,  1.42204019e-17-9.01086044e-18j,\n",
       "         4.57919097e-18+1.32048039e-17j,  4.57919097e-18-1.32048039e-17j,\n",
       "         1.73460655e-17+3.61073575e-18j,  1.73460655e-17-3.61073575e-18j,\n",
       "         6.87827081e-18+1.23621016e-17j,  6.87827081e-18-1.23621016e-17j,\n",
       "         7.54703111e-18+8.48225784e-18j,  7.54703111e-18-8.48225784e-18j,\n",
       "        -1.68019702e-17+0.00000000e+00j, -1.36329012e-18+6.49054155e-18j,\n",
       "        -1.36329012e-18-6.49054155e-18j,  1.31399641e-17+0.00000000e+00j,\n",
       "         4.79605639e-18+0.00000000e+00j, -7.49541061e-18+8.04164489e-18j,\n",
       "        -7.49541061e-18-8.04164489e-18j,  9.73153695e-18+0.00000000e+00j,\n",
       "         3.20081310e-18+2.49693651e-18j,  3.20081310e-18-2.49693651e-18j,\n",
       "        -1.07524071e-17+4.91664001e-18j, -1.07524071e-17-4.91664001e-18j,\n",
       "        -1.01078383e-17+1.92845776e-18j, -1.01078383e-17-1.92845776e-18j,\n",
       "        -6.67492973e-18+0.00000000e+00j, -6.24672801e-18+0.00000000e+00j]),\n",
       " array([[ 0.05016776+0.j        , -0.06503901+0.j        ,\n",
       "         -0.10570437+0.j        , ...,  0.00982983+0.01161101j,\n",
       "          0.03405325+0.j        ,  0.03015922+0.j        ],\n",
       "        [ 0.05715266+0.j        ,  0.11948054+0.j        ,\n",
       "          0.02384069+0.j        , ...,  0.0259213 -0.02087296j,\n",
       "          0.0287655 +0.j        , -0.0413047 +0.j        ],\n",
       "        [ 0.000212  +0.j        , -0.0850313 +0.j        ,\n",
       "         -0.08916819+0.j        , ..., -0.01646278+0.01126423j,\n",
       "         -0.01613539+0.j        ,  0.00562521+0.j        ],\n",
       "        ...,\n",
       "        [-0.04815964+0.j        ,  0.18779792+0.j        ,\n",
       "         -0.08032891+0.j        , ...,  0.04939136-0.00573603j,\n",
       "          0.10476141+0.j        ,  0.03238999+0.j        ],\n",
       "        [ 0.11494838+0.j        , -0.00255545+0.j        ,\n",
       "          0.09403229+0.j        , ...,  0.04641081-0.01158305j,\n",
       "          0.0491812 +0.j        ,  0.02395911+0.j        ],\n",
       "        [ 0.08833129+0.j        , -0.03095718+0.j        ,\n",
       "         -0.05647176+0.j        , ...,  0.10659367-0.04086767j,\n",
       "         -0.01373568+0.j        ,  0.00768619+0.j        ]]))"
      ]
     },
     "execution_count": 79,
     "metadata": {},
     "output_type": "execute_result"
    }
   ],
   "source": [
    "eigenval, eigenvec = np.linalg.eig(cov_matrix)\n",
    "eigenval, eigenvec"
   ]
  },
  {
   "cell_type": "code",
   "execution_count": 80,
   "metadata": {},
   "outputs": [
    {
     "name": "stderr",
     "output_type": "stream",
     "text": [
      "C:\\Users\\Chelsea\\Anaconda3\\lib\\site-packages\\numpy\\core\\numeric.py:538: ComplexWarning: Casting complex values to real discards the imaginary part\n",
      "  return array(a, dtype, copy=False, order=order)\n"
     ]
    },
    {
     "data": {
      "image/png": "[encoded data removed]",
      "text/plain": [
       "<Figure size 432x288 with 1 Axes>"
      ]
     },
     "metadata": {},
     "output_type": "display_data"
    }
   ],
   "source": [
    "significance = [np.abs(i)/np.sum(eigenval) for i in eigenval]#Plotting the Cumulative Summation of the Explained Variance\n",
    "\n",
    "plt.figure()\n",
    "plt.plot(np.cumsum(significance))\n",
    "plt.xlabel('Number of Components')\n",
    "plt.ylabel('Variance (%)') #for each component\n",
    "plt.title('Explained Variance')\n",
    "plt.show()"
   ]
  },
  {
   "cell_type": "code",
   "execution_count": null,
   "metadata": {},
   "outputs": [],
   "source": []
  },
  {
   "cell_type": "code",
   "execution_count": null,
   "metadata": {},
   "outputs": [],
   "source": []
  }
 ],
 "metadata": {
  "kernelspec": {
   "display_name": "Python 3",
   "language": "python",
   "name": "python3"
  },
  "language_info": {
   "codemirror_mode": {
    "name": "ipython",
    "version": 3
   },
   "file_extension": ".py",
   "mimetype": "text/x-python",
   "name": "python",
   "nbconvert_exporter": "python",
   "pygments_lexer": "ipython3",
   "version": "3.7.6"
  }
 },
 "nbformat": 4,
 "nbformat_minor": 2
}
